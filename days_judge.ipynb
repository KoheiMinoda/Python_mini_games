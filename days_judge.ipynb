{
  "nbformat": 4,
  "nbformat_minor": 0,
  "metadata": {
    "colab": {
      "provenance": [],
      "authorship_tag": "ABX9TyNXcagydBEuapflivjoaPOk",
      "include_colab_link": true
    },
    "kernelspec": {
      "name": "python3",
      "display_name": "Python 3"
    },
    "language_info": {
      "name": "python"
    }
  },
  "cells": [
    {
      "cell_type": "markdown",
      "metadata": {
        "id": "view-in-github",
        "colab_type": "text"
      },
      "source": [
        "<a href=\"https://colab.research.google.com/github/KoheiMinoda/Python_mini_games/blob/main/days_judge.ipynb\" target=\"_parent\"><img src=\"https://colab.research.google.com/assets/colab-badge.svg\" alt=\"Open In Colab\"/></a>"
      ]
    },
    {
      "cell_type": "code",
      "execution_count": 1,
      "metadata": {
        "colab": {
          "base_uri": "https://localhost:8080/"
        },
        "id": "83f8D8Ij8rAn",
        "outputId": "b847f918-48dd-4be3-f34c-66d659157e6d"
      },
      "outputs": [
        {
          "output_type": "stream",
          "name": "stdout",
          "text": [
            "Enter a date (YYYY-MM-DD): 2023-4-14\n",
            "The day of the year is: 104\n"
          ]
        }
      ],
      "source": [
        "from datetime import datetime\n",
        "\n",
        "date_str = input(\"Enter a date (YYYY-MM-DD): \")\n",
        "date_obj = datetime.strptime(date_str, \"%Y-%m-%d\")\n",
        "\n",
        "day_of_year = (date_obj - datetime(date_obj.year, 1, 1)).days + 1\n",
        "\n",
        "print(\"The day of the year is:\", day_of_year)"
      ]
    }
  ]
}