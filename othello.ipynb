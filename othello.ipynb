{
  "nbformat": 4,
  "nbformat_minor": 0,
  "metadata": {
    "colab": {
      "provenance": [],
      "authorship_tag": "ABX9TyPySRjLTEJ/3TRwrIZkuCz3",
      "include_colab_link": true
    },
    "kernelspec": {
      "name": "python3",
      "display_name": "Python 3"
    },
    "language_info": {
      "name": "python"
    }
  },
  "cells": [
    {
      "cell_type": "markdown",
      "metadata": {
        "id": "view-in-github",
        "colab_type": "text"
      },
      "source": [
        "<a href=\"https://colab.research.google.com/github/KoheiMinoda/Python_mini_games/blob/main/othello.ipynb\" target=\"_parent\"><img src=\"https://colab.research.google.com/assets/colab-badge.svg\" alt=\"Open In Colab\"/></a>"
      ]
    },
    {
      "cell_type": "code",
      "execution_count": 5,
      "metadata": {
        "id": "OOcX03go-ukV"
      },
      "outputs": [],
      "source": [
        "import numpy as np\n",
        "\n",
        "# オセロボードの初期化\n",
        "board = np.zeros((8, 8))\n",
        "board[3][3] = board[4][4] = 1\n",
        "board[3][4] = board[4][3] = -1\n",
        "\n",
        "# オセロボードを表示する関数\n",
        "def print_board(board):\n",
        "    print(\"  0 1 2 3 4 5 6 7\")\n",
        "    print(\"-----------------\")\n",
        "    for i in range(8):\n",
        "        print(i, end=\"|\")\n",
        "        for j in range(8):\n",
        "            if board[i][j] == 1:\n",
        "                print(\"●\", end=\"|\")\n",
        "            elif board[i][j] == -1:\n",
        "                print(\"○\", end=\"|\")\n",
        "            else:\n",
        "                print(\" \", end=\"|\")\n",
        "        print()\n",
        "\n",
        "# オセロゲームのルールに従って石を置く関数\n",
        "def place_piece(board, player, row, col):\n",
        "    if board[row][col] != 0:\n",
        "        return False\n",
        "    directions = [(0, 1), (1, 0), (0, -1), (-1, 0), (1, 1), (1, -1), (-1, 1), (-1, -1)]\n",
        "    pieces_to_flip = []\n",
        "    for d in directions:\n",
        "        r, c = row, col\n",
        "        pieces_to_flip_direction = []\n",
        "        while True:\n",
        "            r += d[0]\n",
        "            c += d[1]\n",
        "            if r < 0 or c < 0 or r >= 8 or c >= 8:\n",
        "                pieces_to_flip_direction = []\n",
        "                break\n",
        "            elif board[r][c] == 0:\n",
        "                pieces_to_flip_direction = []\n",
        "                break\n",
        "            elif board[r][c] == player:\n",
        "                break\n",
        "            else:\n",
        "                pieces_to_flip_direction.append((r, c))\n",
        "        pieces_to_flip += pieces_to_flip_direction\n",
        "    if len(pieces_to_flip) == 0:\n",
        "        return False\n",
        "    board[row][col] = player\n",
        "    for r, c in pieces_to_flip:\n",
        "        board[r][c] = player\n",
        "    return True\n",
        "\n",
        "# ゲームを実行するためのメイン関数\n",
        "def play_game():\n",
        "    board = np.zeros((8, 8))\n",
        "    board[3][3] = board[4][4] = 1\n",
        "    board[3][4] = board[4][3] = -1\n",
        "    player = 1\n",
        "    while True:\n",
        "        print_board(board)\n",
        "        print(\"Player\", player)\n",
        "        row = int(input(\"Enter row: \"))\n",
        "        col = int(input(\"Enter col: \"))\n",
        "        if place_piece(board, player, row, col):\n",
        "            if player == 1:\n",
        "                player = -1\n",
        "            else:\n",
        "                player = 1\n",
        "        else:\n",
        "            print(\"Invalid move\")\n",
        "        if np.count_nonzero(board) == 64:\n",
        "            break\n",
        "    print_board(board)\n",
        "    white_count = np.count_nonzero(board == 1)\n",
        "    black_count = np.count_nonzero(board == -1)\n",
        "    if white_count > black_count:\n",
        "        print(\"White wins!\")\n",
        "    elif black_count > white_count:\n",
        "        print(\"Black wins!\")\n"
      ]
    },
    {
      "cell_type": "code",
      "source": [
        "play_game()"
      ],
      "metadata": {
        "colab": {
          "base_uri": "https://localhost:8080/",
          "height": 512
        },
        "id": "EsZnWBqD--Jh",
        "outputId": "31ee6ddc-1fdc-49cf-b181-4d5ad2f7e01a"
      },
      "execution_count": null,
      "outputs": [
        {
          "name": "stdout",
          "output_type": "stream",
          "text": [
            "  0 1 2 3 4 5 6 7\n",
            "-----------------\n",
            "0| | | | | | | | |\n",
            "1| | | | | | | | |\n",
            "2| | | | | | | | |\n",
            "3| | | |●|○| | | |\n",
            "4| | | |○|●| | | |\n",
            "5| | | | | | | | |\n",
            "6| | | | | | | | |\n",
            "7| | | | | | | | |\n",
            "Player 1\n",
            "Enter row: \n"
          ]
        },
        {
          "output_type": "error",
          "ename": "ValueError",
          "evalue": "ignored",
          "traceback": [
            "\u001b[0;31m---------------------------------------------------------------------------\u001b[0m",
            "\u001b[0;31mValueError\u001b[0m                                Traceback (most recent call last)",
            "\u001b[0;32m<ipython-input-4-51076e9b4cab>\u001b[0m in \u001b[0;36m<cell line: 1>\u001b[0;34m()\u001b[0m\n\u001b[0;32m----> 1\u001b[0;31m \u001b[0mplay_game\u001b[0m\u001b[0;34m(\u001b[0m\u001b[0;34m)\u001b[0m\u001b[0;34m\u001b[0m\u001b[0;34m\u001b[0m\u001b[0m\n\u001b[0m",
            "\u001b[0;32m<ipython-input-2-47c18ae0e1be>\u001b[0m in \u001b[0;36mplay_game\u001b[0;34m()\u001b[0m\n\u001b[1;32m     60\u001b[0m         \u001b[0mprint_board\u001b[0m\u001b[0;34m(\u001b[0m\u001b[0mboard\u001b[0m\u001b[0;34m)\u001b[0m\u001b[0;34m\u001b[0m\u001b[0;34m\u001b[0m\u001b[0m\n\u001b[1;32m     61\u001b[0m         \u001b[0mprint\u001b[0m\u001b[0;34m(\u001b[0m\u001b[0;34m\"Player\"\u001b[0m\u001b[0;34m,\u001b[0m \u001b[0mplayer\u001b[0m\u001b[0;34m)\u001b[0m\u001b[0;34m\u001b[0m\u001b[0;34m\u001b[0m\u001b[0m\n\u001b[0;32m---> 62\u001b[0;31m         \u001b[0mrow\u001b[0m \u001b[0;34m=\u001b[0m \u001b[0mint\u001b[0m\u001b[0;34m(\u001b[0m\u001b[0minput\u001b[0m\u001b[0;34m(\u001b[0m\u001b[0;34m\"Enter row: \"\u001b[0m\u001b[0;34m)\u001b[0m\u001b[0;34m)\u001b[0m\u001b[0;34m\u001b[0m\u001b[0;34m\u001b[0m\u001b[0m\n\u001b[0m\u001b[1;32m     63\u001b[0m         \u001b[0mcol\u001b[0m \u001b[0;34m=\u001b[0m \u001b[0mint\u001b[0m\u001b[0;34m(\u001b[0m\u001b[0minput\u001b[0m\u001b[0;34m(\u001b[0m\u001b[0;34m\"Enter col: \"\u001b[0m\u001b[0;34m)\u001b[0m\u001b[0;34m)\u001b[0m\u001b[0;34m\u001b[0m\u001b[0;34m\u001b[0m\u001b[0m\n\u001b[1;32m     64\u001b[0m         \u001b[0;32mif\u001b[0m \u001b[0mplace_piece\u001b[0m\u001b[0;34m(\u001b[0m\u001b[0mboard\u001b[0m\u001b[0;34m,\u001b[0m \u001b[0mplayer\u001b[0m\u001b[0;34m,\u001b[0m \u001b[0mrow\u001b[0m\u001b[0;34m,\u001b[0m \u001b[0mcol\u001b[0m\u001b[0;34m)\u001b[0m\u001b[0;34m:\u001b[0m\u001b[0;34m\u001b[0m\u001b[0;34m\u001b[0m\u001b[0m\n",
            "\u001b[0;31mValueError\u001b[0m: invalid literal for int() with base 10: ''"
          ]
        }
      ]
    },
    {
      "cell_type": "code",
      "source": [],
      "metadata": {
        "id": "bmbGg9xp_m2b"
      },
      "execution_count": null,
      "outputs": []
    }
  ]
}